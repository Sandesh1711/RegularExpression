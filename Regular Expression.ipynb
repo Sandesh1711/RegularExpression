{
 "cells": [
  {
   "cell_type": "code",
   "execution_count": 3,
   "id": "58e825dc",
   "metadata": {},
   "outputs": [],
   "source": [
    "# RegEx is a tool for matching patterns in a text of string that fprms a search pattern."
   ]
  },
  {
   "cell_type": "code",
   "execution_count": 4,
   "id": "d0e54470",
   "metadata": {},
   "outputs": [],
   "source": [
    "import re"
   ]
  },
  {
   "cell_type": "code",
   "execution_count": 8,
   "id": "4e317959",
   "metadata": {},
   "outputs": [
    {
     "name": "stdout",
     "output_type": "stream",
     "text": [
      "Sachin scores 76 and Dravid scores 40 and Rohit scores 88 and\n",
      "Dhoni scores 99.\n"
     ]
    }
   ],
   "source": [
    "my_text = '''Sachin scores 76 and Dravid scores 40 and Rohit scores 88 and\n",
    "Dhoni scores 99.'''\n",
    "\n",
    "print (my_text)"
   ]
  },
  {
   "cell_type": "markdown",
   "id": "b574f647",
   "metadata": {},
   "source": [
    "# findall() function returns a list containing all matches."
   ]
  },
  {
   "cell_type": "code",
   "execution_count": 12,
   "id": "5395b6bb",
   "metadata": {},
   "outputs": [
    {
     "name": "stdout",
     "output_type": "stream",
     "text": [
      "['Sachin', 'Dravid', 'Rohit', 'Dhoni']\n"
     ]
    }
   ],
   "source": [
    "name  = re.findall(r'[A-Z][a-z]*', my_text)\n",
    "print(name)"
   ]
  },
  {
   "cell_type": "code",
   "execution_count": 10,
   "id": "cbcd6b19",
   "metadata": {},
   "outputs": [
    {
     "name": "stdout",
     "output_type": "stream",
     "text": [
      "Sachin\n",
      "Dravid\n",
      "Rohit\n",
      "Dhoni\n"
     ]
    }
   ],
   "source": [
    "n = len(name)\n",
    "for i in range(0,n):\n",
    "    print(name[i])"
   ]
  },
  {
   "cell_type": "code",
   "execution_count": 13,
   "id": "96ca1d60",
   "metadata": {},
   "outputs": [
    {
     "name": "stdout",
     "output_type": "stream",
     "text": [
      "['7', '6', '4', '0', '8', '8', '9', '9']\n"
     ]
    }
   ],
   "source": [
    "run = re.findall(r'\\d',my_text)\n",
    "print(run)"
   ]
  },
  {
   "cell_type": "code",
   "execution_count": 14,
   "id": "202ed125",
   "metadata": {},
   "outputs": [
    {
     "name": "stdout",
     "output_type": "stream",
     "text": [
      "['76', '40', '88', '99']\n"
     ]
    }
   ],
   "source": [
    "\n",
    "run_digit = re.findall(r'\\d{2}',my_text)\n",
    "print(run_digit)"
   ]
  },
  {
   "cell_type": "code",
   "execution_count": 17,
   "id": "26b4108a",
   "metadata": {},
   "outputs": [
    {
     "name": "stdout",
     "output_type": "stream",
     "text": [
      "{'Sachin': '76'}\n",
      "{'Sachin': '76', 'Dravid': '40'}\n",
      "{'Sachin': '76', 'Dravid': '40', 'Rohit': '88'}\n",
      "{'Sachin': '76', 'Dravid': '40', 'Rohit': '88', 'Dhoni': '99'}\n",
      "{'Sachin': '76', 'Dravid': '40', 'Rohit': '88', 'Dhoni': '99'}\n"
     ]
    }
   ],
   "source": [
    "name_run = {}\n",
    "j=0\n",
    "for x in name:\n",
    "    name_run[x]=run_digit[j]\n",
    "    j+=1\n",
    "    print(name_run)\n",
    "print(name_run)    "
   ]
  },
  {
   "cell_type": "markdown",
   "id": "da6d64a4",
   "metadata": {},
   "source": [
    "# search() returns a match object if there is match then it gives"
   ]
  },
  {
   "cell_type": "code",
   "execution_count": 21,
   "id": "c6bae499",
   "metadata": {},
   "outputs": [],
   "source": [
    "str = '''My name is sandesh niroula 70'''"
   ]
  },
  {
   "cell_type": "code",
   "execution_count": 23,
   "id": "5a8ef79d",
   "metadata": {},
   "outputs": [
    {
     "name": "stdout",
     "output_type": "stream",
     "text": [
      "item found\n"
     ]
    }
   ],
   "source": [
    "if re.search('70', str):\n",
    "    print(\"item found\")\n",
    "    \n",
    "else: \n",
    "    print(\"item not found\")"
   ]
  },
  {
   "cell_type": "markdown",
   "id": "e049283d",
   "metadata": {},
   "source": [
    "# To find index of sandesh"
   ]
  },
  {
   "cell_type": "code",
   "execution_count": 24,
   "id": "4c3917f0",
   "metadata": {},
   "outputs": [
    {
     "name": "stdout",
     "output_type": "stream",
     "text": [
      "['sandesh']\n"
     ]
    }
   ],
   "source": [
    "match = re.findall(\"sandesh\",str)\n",
    "print(match)"
   ]
  },
  {
   "cell_type": "code",
   "execution_count": 26,
   "id": "6da36d3b",
   "metadata": {},
   "outputs": [
    {
     "name": "stdout",
     "output_type": "stream",
     "text": [
      "(11, 18)\n"
     ]
    }
   ],
   "source": [
    "for i in re.finditer(\"sandesh\",str):\n",
    "    index = i.span()\n",
    "    print(index)"
   ]
  },
  {
   "cell_type": "code",
   "execution_count": 31,
   "id": "3a1e6325",
   "metadata": {},
   "outputs": [],
   "source": [
    "str2 = '''Rat Cat Bat Mat Sat'''"
   ]
  },
  {
   "cell_type": "code",
   "execution_count": 33,
   "id": "8c12c4b2",
   "metadata": {},
   "outputs": [
    {
     "name": "stdout",
     "output_type": "stream",
     "text": [
      "['R', 'C', 'B']\n"
     ]
    }
   ],
   "source": [
    "data1 = re.findall(r'[RCB]', str2)\n",
    "print(data1)"
   ]
  },
  {
   "cell_type": "code",
   "execution_count": 34,
   "id": "3e025bc1",
   "metadata": {},
   "outputs": [
    {
     "name": "stdout",
     "output_type": "stream",
     "text": [
      "['Ra', 'Ca', 'Ba']\n"
     ]
    }
   ],
   "source": [
    "data2 = re.findall(r'[RCB][a-z]', str2)\n",
    "print(data2)"
   ]
  },
  {
   "cell_type": "code",
   "execution_count": 35,
   "id": "9dd6cc36",
   "metadata": {},
   "outputs": [
    {
     "name": "stdout",
     "output_type": "stream",
     "text": [
      "['Rat', 'Cat', 'Bat']\n"
     ]
    }
   ],
   "source": [
    "data = re.findall(r'[RCB][a-z]*', str2)\n",
    "print(data)"
   ]
  },
  {
   "cell_type": "code",
   "execution_count": 37,
   "id": "efc8911a",
   "metadata": {},
   "outputs": [
    {
     "name": "stdout",
     "output_type": "stream",
     "text": [
      "[]\n"
     ]
    }
   ],
   "source": [
    "data3 = re.findall(r'[RCB][a-z][a-z][a-z]', str2)\n",
    "print(data3)"
   ]
  },
  {
   "cell_type": "code",
   "execution_count": 40,
   "id": "8507d035",
   "metadata": {},
   "outputs": [
    {
     "name": "stdout",
     "output_type": "stream",
     "text": [
      "['Rat', 'Cat', 'Bat']\n"
     ]
    }
   ],
   "source": [
    "data4  = re.findall('[RCB]at',str2)\n",
    "print(data4)"
   ]
  },
  {
   "cell_type": "code",
   "execution_count": 41,
   "id": "6765b8a4",
   "metadata": {},
   "outputs": [
    {
     "name": "stdout",
     "output_type": "stream",
     "text": [
      "['Mat', 'Sat']\n"
     ]
    }
   ],
   "source": [
    "data5 = re.findall(\"[^RCB]at\",str2)\n",
    "print(data5)"
   ]
  },
  {
   "cell_type": "code",
   "execution_count": 42,
   "id": "96c27588",
   "metadata": {},
   "outputs": [
    {
     "name": "stdout",
     "output_type": "stream",
     "text": [
      "['Rat']\n"
     ]
    }
   ],
   "source": [
    "data6 = re.findall(\"^[RCB]at\",str2)\n",
    "print(data6)"
   ]
  },
  {
   "cell_type": "code",
   "execution_count": null,
   "id": "21c90a50",
   "metadata": {},
   "outputs": [],
   "source": []
  }
 ],
 "metadata": {
  "kernelspec": {
   "display_name": "Python 3 (ipykernel)",
   "language": "python",
   "name": "python3"
  },
  "language_info": {
   "codemirror_mode": {
    "name": "ipython",
    "version": 3
   },
   "file_extension": ".py",
   "mimetype": "text/x-python",
   "name": "python",
   "nbconvert_exporter": "python",
   "pygments_lexer": "ipython3",
   "version": "3.9.7"
  }
 },
 "nbformat": 4,
 "nbformat_minor": 5
}
